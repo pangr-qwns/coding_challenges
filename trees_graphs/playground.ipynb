{
 "cells": [
  {
   "cell_type": "code",
   "execution_count": 5,
   "metadata": {},
   "outputs": [
    {
     "name": "stdout",
     "output_type": "stream",
     "text": [
      "9\n"
     ]
    }
   ],
   "source": [
    "class Solution(object):\n",
    "    def sum(self, x, y):\n",
    "        return x+y\n",
    "s = Solution()\n",
    "print(getattr(s, 'sum')(4, 5))"
   ]
  },
  {
   "cell_type": "code",
   "execution_count": 2,
   "metadata": {},
   "outputs": [
    {
     "name": "stdout",
     "output_type": "stream",
     "text": [
      "0\n"
     ]
    }
   ],
   "source": [
    "def commonality(s):\n",
    "    hashRight = {}\n",
    "    commonality = 0\n",
    "    for char in s:\n",
    "        if char not in hashRight:\n",
    "            hashRight[char] = 0\n",
    "        else:\n",
    "            hashRight[char] += 1\n",
    "    hashLeft = {}\n",
    "    for c in s:\n",
    "        if c not in hashLeft:\n",
    "            hashLeft[c] = 0\n",
    "        else:\n",
    "            hashLeft[c] += 1\n",
    "        hashRight[c] -= 1\n",
    "        if hashRight[c] < 0:\n",
    "            hashRight[c] = 0\n",
    "        commonality += min(hashRight[c], hashLeft[c])\n",
    "    return commonality\n",
    "print(commonality('abcdedeara'))"
   ]
  },
  {
   "cell_type": "code",
   "execution_count": null,
   "metadata": {
    "collapsed": true
   },
   "outputs": [],
   "source": []
  }
 ],
 "metadata": {
  "kernelspec": {
   "display_name": "Python 3",
   "language": "python",
   "name": "python3"
  },
  "language_info": {
   "codemirror_mode": {
    "name": "ipython",
    "version": 3
   },
   "file_extension": ".py",
   "mimetype": "text/x-python",
   "name": "python",
   "nbconvert_exporter": "python",
   "pygments_lexer": "ipython3",
   "version": "3.6.3"
  }
 },
 "nbformat": 4,
 "nbformat_minor": 2
}
